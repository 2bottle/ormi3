{
  "nbformat": 4,
  "nbformat_minor": 0,
  "metadata": {
    "colab": {
      "provenance": [],
      "authorship_tag": "ABX9TyMHzBhb6RRFB7tWjiyaTrwX",
      "include_colab_link": true
    },
    "kernelspec": {
      "name": "python3",
      "display_name": "Python 3"
    },
    "language_info": {
      "name": "python"
    }
  },
  "cells": [
    {
      "cell_type": "markdown",
      "metadata": {
        "id": "view-in-github",
        "colab_type": "text"
      },
      "source": [
        "<a href=\"https://colab.research.google.com/github/2bottle/ormi3/blob/main/ormi3_6.ipynb\" target=\"_parent\"><img src=\"https://colab.research.google.com/assets/colab-badge.svg\" alt=\"Open In Colab\"/></a>"
      ]
    },
    {
      "cell_type": "markdown",
      "source": [
        "# 일급함수와 고차함수"
      ],
      "metadata": {
        "id": "uPiW_LA96r6m"
      }
    },
    {
      "cell_type": "code",
      "source": [
        "licat = print\n",
        "licat('hello world')"
      ],
      "metadata": {
        "colab": {
          "base_uri": "https://localhost:8080/"
        },
        "id": "hxQLR1SO6JhP",
        "outputId": "8cfe6ad2-2847-48b9-b1d6-7dcb48ce0a06"
      },
      "execution_count": 1,
      "outputs": [
        {
          "output_type": "stream",
          "name": "stdout",
          "text": [
            "hello world\n"
          ]
        }
      ]
    },
    {
      "cell_type": "code",
      "execution_count": 3,
      "metadata": {
        "colab": {
          "base_uri": "https://localhost:8080/"
        },
        "id": "lgLtTK-06BQt",
        "outputId": "a48c84ae-e4b5-445d-ccad-5649bc5c1499"
      },
      "outputs": [
        {
          "output_type": "stream",
          "name": "stdout",
          "text": [
            "냐옹\n"
          ]
        }
      ],
      "source": [
        "class Cat:\n",
        "    def sound(self):\n",
        "        print('냐옹')\n",
        "\n",
        "licat = Cat()\n",
        "licat_sound = licat.sound\n",
        "licat_sound()"
      ]
    },
    {
      "cell_type": "code",
      "source": [
        "l = [10, 20, 30]\n",
        "la = l.append\n",
        "la(40) # l.append\n",
        "l"
      ],
      "metadata": {
        "colab": {
          "base_uri": "https://localhost:8080/"
        },
        "id": "hdttvkc07dEr",
        "outputId": "65ed76e4-8ffd-47c3-8793-83df64b6761b"
      },
      "execution_count": 4,
      "outputs": [
        {
          "output_type": "execute_result",
          "data": {
            "text/plain": [
              "[10, 20, 30, 40]"
            ]
          },
          "metadata": {},
          "execution_count": 4
        }
      ]
    },
    {
      "cell_type": "code",
      "source": [
        "def add(x, y):\n",
        "    return x + y\n",
        "\n",
        "def subtract(x, y):\n",
        "    return x - y\n",
        "\n",
        "funcs = [add, subtract]\n",
        "print(funcs[0](2, 3))  # 출력: 5"
      ],
      "metadata": {
        "colab": {
          "base_uri": "https://localhost:8080/"
        },
        "id": "hdKdhic1846F",
        "outputId": "0d7255f2-44ce-4800-a3c8-363f4f781c99"
      },
      "execution_count": 5,
      "outputs": [
        {
          "output_type": "stream",
          "name": "stdout",
          "text": [
            "5\n"
          ]
        }
      ]
    },
    {
      "cell_type": "code",
      "source": [
        "class Operator:\n",
        "    def add(self, x, y):\n",
        "        return x + y\n",
        "\n",
        "    def sub(self, x, y):\n",
        "        return x - y\n",
        "\n",
        "    def mul(self, x, y):\n",
        "        return x * y\n",
        "\n",
        "    def div(self, x, y):\n",
        "        return x / y\n",
        "\n",
        "    def _and(self, x, y):\n",
        "        pass\n",
        "\n",
        "    def _or(self, x, y):\n",
        "        pass\n",
        "\n",
        "op = Operator()\n",
        "logical_op = {\n",
        "    'add': op.add,\n",
        "    'sub': op.sub,\n",
        "    'mul': op.mul,\n",
        "    'div': op.div,\n",
        "}\n",
        "arithmetic_op = {\n",
        "    '_and': op._and,\n",
        "    '_or': op._or,\n",
        "}\n",
        "\n",
        "print(logical_op['add'](2, 3)) # 출력: 5\n",
        "print(op.add(2, 3)) # 출력: 5\n",
        "\n",
        "for _, f in logical_op.items():\n",
        "    print(f(2, 3))"
      ],
      "metadata": {
        "colab": {
          "base_uri": "https://localhost:8080/"
        },
        "id": "I82Mb2Nd-AEh",
        "outputId": "528ac097-1cb0-4f0f-c04a-0de0a37a05d7"
      },
      "execution_count": 9,
      "outputs": [
        {
          "output_type": "stream",
          "name": "stdout",
          "text": [
            "5\n",
            "5\n",
            "5\n",
            "-1\n",
            "6\n",
            "0.6666666666666666\n"
          ]
        }
      ]
    },
    {
      "cell_type": "code",
      "source": [
        "def square(x):\n",
        "    return x ** 2\n",
        "\n",
        "def root(x):\n",
        "    return x ** 0.5\n",
        "\n",
        "def length(a, b, square, root):\n",
        "    return root(square(a) + square(b))\n",
        "\n",
        "length(6, 8, square, root)"
      ],
      "metadata": {
        "colab": {
          "base_uri": "https://localhost:8080/"
        },
        "id": "bcIgLbcvCDB9",
        "outputId": "d3e42bf4-7a05-4fb4-ac7a-d4fd04201c15"
      },
      "execution_count": 15,
      "outputs": [
        {
          "output_type": "execute_result",
          "data": {
            "text/plain": [
              "10.0"
            ]
          },
          "metadata": {},
          "execution_count": 15
        }
      ]
    },
    {
      "cell_type": "code",
      "source": [
        "# 함수를 결과로 반환!\n",
        "def create_adder(x):\n",
        "    def adder(y):\n",
        "        return x + y\n",
        "    return adder\n",
        "\n",
        "add_5 = create_adder(5)\n",
        "print(add_5(10))  # 출력: 15"
      ],
      "metadata": {
        "colab": {
          "base_uri": "https://localhost:8080/"
        },
        "id": "XpiL9snCEBIb",
        "outputId": "7324ba14-b9d2-422f-9c5e-9e8048f4755f"
      },
      "execution_count": 12,
      "outputs": [
        {
          "output_type": "stream",
          "name": "stdout",
          "text": [
            "15\n"
          ]
        }
      ]
    },
    {
      "cell_type": "code",
      "source": [
        "def create_exponent(x):\n",
        "    def exponent(y):\n",
        "        return y ** x\n",
        "    return exponent\n",
        "\n",
        "exponent_2 = create_exponent(2)\n",
        "exponent_3 = create_exponent(3)\n",
        "print(exponent_2(10)) # 출력: 100\n",
        "print(exponent_3(10)) # 출력: 1000"
      ],
      "metadata": {
        "colab": {
          "base_uri": "https://localhost:8080/"
        },
        "id": "oqmB-mNlEBfd",
        "outputId": "8c89bb62-5544-4c80-80c6-1c7d13f915a0"
      },
      "execution_count": 16,
      "outputs": [
        {
          "output_type": "stream",
          "name": "stdout",
          "text": [
            "100\n",
            "1000\n"
          ]
        }
      ]
    },
    {
      "cell_type": "code",
      "source": [
        "# 일급 함수 : 함수를 일급객체(값, 주소)로 취급\n",
        "# 고차 함수 : 함수를 아규먼트로 받거나 return 값으로 반환할 수 있는 함수"
      ],
      "metadata": {
        "id": "wZamiyPpKqTV"
      },
      "execution_count": 17,
      "outputs": []
    },
    {
      "cell_type": "markdown",
      "source": [
        "# 클로저"
      ],
      "metadata": {
        "id": "b7mdb72UN1EE"
      }
    },
    {
      "cell_type": "code",
      "source": [
        "# 클로저가 아닌경우\n",
        "def outer_function():\n",
        "    def inner_function():\n",
        "        return 100+100\n",
        "    return inner_function\n",
        "\n",
        "# 클로저인 경우\n",
        "def outer_function(x):\n",
        "    def inner_function(y):\n",
        "        return x + y\n",
        "    return inner_function\n",
        "\n",
        "inner = outer_function(100)\n",
        "inner(200) # inner 입장에서 100을 변경할 수 있는 방법이 없습니다."
      ],
      "metadata": {
        "colab": {
          "base_uri": "https://localhost:8080/"
        },
        "id": "puGcJ3F7NmBB",
        "outputId": "093de0d2-ae56-4220-e57c-4eeefec8b4e2"
      },
      "execution_count": 18,
      "outputs": [
        {
          "output_type": "execute_result",
          "data": {
            "text/plain": [
              "300"
            ]
          },
          "metadata": {},
          "execution_count": 18
        }
      ]
    },
    {
      "cell_type": "code",
      "source": [
        "# 고차함수이며, 일반적인 클로저의 형태는 아닙니다.\n",
        "# 보통 클로저는 outer_function에 은닉할 값을 매개변수로 넘겨줍니다.\n",
        "def outer_function():\n",
        "    def inner_function():\n",
        "        return 100 + 100\n",
        "    return inner_function\n",
        "\n",
        "# 클로저인 경우\n",
        "def outer_function(x):\n",
        "    def inner_function(y):\n",
        "        return x + y\n",
        "    return inner_function\n",
        "\n",
        "inner = outer_function(100)\n",
        "'''\n",
        "def inner(y):\n",
        "    return 100 + y\n",
        "inner(200)\n",
        "'''\n",
        "inner(200) # inner 입장에서 100을 변경할 수 있는 방법이 없습니다."
      ],
      "metadata": {
        "colab": {
          "base_uri": "https://localhost:8080/"
        },
        "id": "gZJptEXsNm05",
        "outputId": "73128a73-84a5-472d-fad6-4ad636bee30d"
      },
      "execution_count": 20,
      "outputs": [
        {
          "output_type": "execute_result",
          "data": {
            "text/plain": [
              "300"
            ]
          },
          "metadata": {},
          "execution_count": 20
        }
      ]
    },
    {
      "cell_type": "markdown",
      "source": [
        "# 데코레이터"
      ],
      "metadata": {
        "id": "QRARiSQGNyHf"
      }
    },
    {
      "cell_type": "code",
      "source": [
        "def simple_decorator(function):\n",
        "    def wrapper():\n",
        "        print(\"Before the function call\")\n",
        "        function()\n",
        "        print(\"After the function call\")\n",
        "    return wrapper\n",
        "\n",
        "@simple_decorator\n",
        "def hello():\n",
        "    print(\"Hello, World!\")\n",
        "\n",
        "hello() # 데코레이터가 없는 상태에서는 simple_decorator(hello)() 와 같습니다."
      ],
      "metadata": {
        "colab": {
          "base_uri": "https://localhost:8080/"
        },
        "id": "VYMYlYTxNp7D",
        "outputId": "71d9c47c-e93c-4f5c-9181-c7d47017d22f"
      },
      "execution_count": 21,
      "outputs": [
        {
          "output_type": "stream",
          "name": "stdout",
          "text": [
            "Before the function call\n",
            "Hello, World!\n",
            "After the function call\n"
          ]
        }
      ]
    },
    {
      "cell_type": "code",
      "source": [
        "def simple_decorator(function):\n",
        "    def wrapper():\n",
        "        print(\"Before the function call\")\n",
        "        function()\n",
        "        print(\"After the function call\")\n",
        "    return wrapper\n",
        "\n",
        "def hello():\n",
        "    print(\"Hello, World!\")\n",
        "\n",
        "simple_decorator(hello)()\n",
        "# simple_decorator(hello) => wrapper\n",
        "# simple_decorator(hello)() => wrapper()"
      ],
      "metadata": {
        "colab": {
          "base_uri": "https://localhost:8080/"
        },
        "id": "Yw73Lcm_QQRd",
        "outputId": "0af2eb1b-d845-43b5-85ea-71658fa49584"
      },
      "execution_count": 22,
      "outputs": [
        {
          "output_type": "stream",
          "name": "stdout",
          "text": [
            "Before the function call\n",
            "Hello, World!\n",
            "After the function call\n"
          ]
        }
      ]
    },
    {
      "cell_type": "code",
      "source": [
        "def simple_decorator(function):\n",
        "    def wrapper():\n",
        "        print(\"Before the function call\")\n",
        "        function()\n",
        "        print(\"After the function call\")\n",
        "    return wrapper\n",
        "\n",
        "@simple_decorator\n",
        "def hello():\n",
        "    print(\"Hello, World!\")\n",
        "\n",
        "hello() # 이렇게만 하면 simple_decorator에 hello를 아규먼트로 넣어주고 실행하겠다!"
      ],
      "metadata": {
        "colab": {
          "base_uri": "https://localhost:8080/"
        },
        "id": "ZS631iKxQRSI",
        "outputId": "6b233752-72da-445f-8991-da8c98463264"
      },
      "execution_count": 23,
      "outputs": [
        {
          "output_type": "stream",
          "name": "stdout",
          "text": [
            "Before the function call\n",
            "Hello, World!\n",
            "After the function call\n"
          ]
        }
      ]
    },
    {
      "cell_type": "code",
      "source": [
        "# step 1\n",
        "def data_Preprocessing(function):\n",
        "    def wrapper():\n",
        "        pass\n",
        "    return wrapper\n",
        "\n",
        "@data_Preprocessing\n",
        "def mean(data):\n",
        "    return sum(data)/len(data)\n",
        "\n",
        "mean([1, 2, '3', 4, '5']) # TypeError 발생"
      ],
      "metadata": {
        "colab": {
          "base_uri": "https://localhost:8080/",
          "height": 221
        },
        "id": "swgVyi0nQSWu",
        "outputId": "d437e3d5-bcae-46ba-f7a8-6da94ee43502"
      },
      "execution_count": 24,
      "outputs": [
        {
          "output_type": "error",
          "ename": "TypeError",
          "evalue": "ignored",
          "traceback": [
            "\u001b[0;31m---------------------------------------------------------------------------\u001b[0m",
            "\u001b[0;31mTypeError\u001b[0m                                 Traceback (most recent call last)",
            "\u001b[0;32m<ipython-input-24-b45775b9a43e>\u001b[0m in \u001b[0;36m<cell line: 11>\u001b[0;34m()\u001b[0m\n\u001b[1;32m      9\u001b[0m     \u001b[0;32mreturn\u001b[0m \u001b[0msum\u001b[0m\u001b[0;34m(\u001b[0m\u001b[0mdata\u001b[0m\u001b[0;34m)\u001b[0m\u001b[0;34m/\u001b[0m\u001b[0mlen\u001b[0m\u001b[0;34m(\u001b[0m\u001b[0mdata\u001b[0m\u001b[0;34m)\u001b[0m\u001b[0;34m\u001b[0m\u001b[0;34m\u001b[0m\u001b[0m\n\u001b[1;32m     10\u001b[0m \u001b[0;34m\u001b[0m\u001b[0m\n\u001b[0;32m---> 11\u001b[0;31m \u001b[0mmean\u001b[0m\u001b[0;34m(\u001b[0m\u001b[0;34m[\u001b[0m\u001b[0;36m1\u001b[0m\u001b[0;34m,\u001b[0m \u001b[0;36m2\u001b[0m\u001b[0;34m,\u001b[0m \u001b[0;34m'3'\u001b[0m\u001b[0;34m,\u001b[0m \u001b[0;36m4\u001b[0m\u001b[0;34m,\u001b[0m \u001b[0;34m'5'\u001b[0m\u001b[0;34m]\u001b[0m\u001b[0;34m)\u001b[0m \u001b[0;31m# TypeError 발생\u001b[0m\u001b[0;34m\u001b[0m\u001b[0;34m\u001b[0m\u001b[0m\n\u001b[0m",
            "\u001b[0;31mTypeError\u001b[0m: data_Preprocessing.<locals>.wrapper() takes 0 positional arguments but 1 was given"
          ]
        }
      ]
    },
    {
      "cell_type": "code",
      "source": [
        "# step 2\n",
        "def data_Preprocessing(function):\n",
        "    def wrapper(data):\n",
        "        print(data)\n",
        "    return wrapper\n",
        "\n",
        "@data_Preprocessing\n",
        "def mean(data):\n",
        "    return sum(data)/len(data)\n",
        "\n",
        "mean([1, 2, '3', 4, '5']) # 데이터만 출력하고 함수는 None을 반환"
      ],
      "metadata": {
        "colab": {
          "base_uri": "https://localhost:8080/"
        },
        "id": "mM3yHIgbQTU0",
        "outputId": "7459c7b7-a859-4b30-8209-175ff1d246d3"
      },
      "execution_count": 25,
      "outputs": [
        {
          "output_type": "stream",
          "name": "stdout",
          "text": [
            "[1, 2, '3', 4, '5']\n"
          ]
        }
      ]
    },
    {
      "cell_type": "code",
      "source": [
        "# step 3\n",
        "def data_Preprocessing(function):\n",
        "    def wrapper(data):\n",
        "        return function(list(map(int, data)))\n",
        "    return wrapper\n",
        "\n",
        "@data_Preprocessing\n",
        "def mean(data):\n",
        "    return sum(data)/len(data)\n",
        "\n",
        "mean([1, 2, '3', 4, '5']) # 출력: 3.0 (정상 작동)"
      ],
      "metadata": {
        "colab": {
          "base_uri": "https://localhost:8080/"
        },
        "id": "taDGCTdyQpzY",
        "outputId": "902e37a3-7f48-4925-d10e-5b97ab833c60"
      },
      "execution_count": 26,
      "outputs": [
        {
          "output_type": "execute_result",
          "data": {
            "text/plain": [
              "3.0"
            ]
          },
          "metadata": {},
          "execution_count": 26
        }
      ]
    },
    {
      "cell_type": "code",
      "source": [
        "import sys\n",
        "\n",
        "def ff():\n",
        "    l = [10, 20, 30]\n",
        "    return l\n",
        "\n",
        "sample_ = ff()\n",
        "sys.getrefcount(sample_) # window, mac, linux의 출력값이 달라요.\n",
        "# 중요한 포인트는 getrefcount의 작동 원리가 아니라\n",
        "# 함수가 종료되어도 참조하는 변수가 있다면\n",
        "# 값이 사라지지 않는다는 것이 포인트입니다!"
      ],
      "metadata": {
        "colab": {
          "base_uri": "https://localhost:8080/"
        },
        "id": "RIZ4KtCGVuMs",
        "outputId": "df8f073d-7cd1-4930-f752-ed85f06c0955"
      },
      "execution_count": 27,
      "outputs": [
        {
          "output_type": "execute_result",
          "data": {
            "text/plain": [
              "2"
            ]
          },
          "metadata": {},
          "execution_count": 27
        }
      ]
    },
    {
      "cell_type": "code",
      "source": [
        "def add_exclamation(function):\n",
        "    def wrapper(text):\n",
        "        print(f'add_exclamation 데코레이터 시작')\n",
        "        result = function(text) + \"!\"\n",
        "        print(f'add_exclamation 데코레이터 종료')\n",
        "        return result\n",
        "    return wrapper\n",
        "\n",
        "def add_question_mark(function):\n",
        "    def wrapper(text):\n",
        "        print(f'add_question_mark 데코레이터 시작')\n",
        "        result = function(text) + \"?\"\n",
        "        print(f'add_question_mark 데코레이터 종료')\n",
        "        return result\n",
        "    return wrapper\n",
        "\n",
        "def add_dot(function):\n",
        "    def wrapper(text):\n",
        "        print(f'add_dot 데코레이터 시작')\n",
        "        result = function(text) + \".\"\n",
        "        print(f'add_dot 데코레이터 종료')\n",
        "        return result\n",
        "    return wrapper"
      ],
      "metadata": {
        "id": "WydOduUmaL1j"
      },
      "execution_count": 28,
      "outputs": []
    },
    {
      "cell_type": "code",
      "source": [
        "def add(n): # 데코레이터를 감싸는 하나의 함수를 더 만들어서 아규먼트를 받는 방법입니다.\n",
        "    def decorator(function): # 여기서부터의 기능은 같습니다.\n",
        "        def new_function(a, b):\n",
        "            print(f'plus 함수가 {n}만큼 증가시키는 데코레이터가 시작됩니다.')\n",
        "            result = function(a, b)\n",
        "            print(result)\n",
        "            print(f'plus 함수가 {n}만큼 증가시키는 데코레이터가 종료됩니다.')\n",
        "            return result + n\n",
        "        return new_function\n",
        "    return decorator\n",
        "\n",
        "@add(1000)\n",
        "def plus(a, b):\n",
        "    print('plus 함수가 호출되었습니다.')\n",
        "    return a + b\n",
        "\n",
        "result = plus(10, 20)\n",
        "print(f'result : {result}')"
      ],
      "metadata": {
        "colab": {
          "base_uri": "https://localhost:8080/"
        },
        "id": "cXfPpWh_bn-0",
        "outputId": "cfd1e8ca-581a-4483-f6be-8cd4e2eb78ec"
      },
      "execution_count": 29,
      "outputs": [
        {
          "output_type": "stream",
          "name": "stdout",
          "text": [
            "plus 함수가 1000만큼 증가시키는 데코레이터가 시작됩니다.\n",
            "plus 함수가 호출되었습니다.\n",
            "30\n",
            "plus 함수가 1000만큼 증가시키는 데코레이터가 종료됩니다.\n",
            "result : 1030\n"
          ]
        }
      ]
    },
    {
      "cell_type": "markdown",
      "source": [
        "# lambda"
      ],
      "metadata": {
        "id": "p0INPuwdd1sh"
      }
    },
    {
      "cell_type": "code",
      "source": [
        "# 재사용 되지 않는 함수에서 lambda 사용\n",
        "square = lambda x: x*x\n",
        "print(square(5))  # 출력: 25"
      ],
      "metadata": {
        "colab": {
          "base_uri": "https://localhost:8080/"
        },
        "id": "NKpV0EzpbpLH",
        "outputId": "c3348ab2-b8cc-409b-9a09-358553a400db"
      },
      "execution_count": 30,
      "outputs": [
        {
          "output_type": "stream",
          "name": "stdout",
          "text": [
            "25\n"
          ]
        }
      ]
    },
    {
      "cell_type": "markdown",
      "source": [
        "# args kwargs"
      ],
      "metadata": {
        "id": "IB-n74Pr5VFJ"
      }
    },
    {
      "cell_type": "code",
      "source": [
        "def func(a, b, *, c, d):\n",
        "    print(a, b, c, d)\n",
        "\n",
        "# func(1, 2, c = 3, d = 4)  # 올바른 예시\n",
        "# func(1, 2, 3, d = 4)  # 잘못된 예시\n",
        "# func(1, 2, 3, 4)    # 잘못된 예시"
      ],
      "metadata": {
        "id": "XAQwR5hY5aOq"
      },
      "execution_count": null,
      "outputs": []
    },
    {
      "cell_type": "code",
      "source": [
        "def func(a, b, c):\n",
        "    print(a, b, c)\n",
        "\n",
        "args = (1, 2, 3)\n",
        "func(*args)\n",
        "\n",
        "kwargs = {'a': 1, 'b': 2, 'c': 3}\n",
        "func(**kwargs)"
      ],
      "metadata": {
        "colab": {
          "base_uri": "https://localhost:8080/"
        },
        "id": "WSDp_vgbd2_V",
        "outputId": "5b949526-ee8f-46ec-fac4-223bdb1fbae4"
      },
      "execution_count": 31,
      "outputs": [
        {
          "output_type": "stream",
          "name": "stdout",
          "text": [
            "1 2 3\n",
            "1 2 3\n"
          ]
        }
      ]
    },
    {
      "cell_type": "code",
      "source": [
        "def func(a, b, c):\n",
        "    print(a, b, c)\n",
        "\n",
        "args = (1, 2, 3)\n",
        "func(*args)\n",
        "print(args, *args)\n",
        "\n",
        "kwargs = {'a': 1, 'b': 2, 'c': 3}\n",
        "func(**kwargs)\n",
        "print(kwargs, **kwargs) # error"
      ],
      "metadata": {
        "colab": {
          "base_uri": "https://localhost:8080/",
          "height": 276
        },
        "id": "C7StG4RC5bxD",
        "outputId": "17bffcd0-ae2a-405f-f246-43f44390d9af"
      },
      "execution_count": 32,
      "outputs": [
        {
          "output_type": "stream",
          "name": "stdout",
          "text": [
            "1 2 3\n",
            "(1, 2, 3) 1 2 3\n",
            "1 2 3\n"
          ]
        },
        {
          "output_type": "error",
          "ename": "TypeError",
          "evalue": "ignored",
          "traceback": [
            "\u001b[0;31m---------------------------------------------------------------------------\u001b[0m",
            "\u001b[0;31mTypeError\u001b[0m                                 Traceback (most recent call last)",
            "\u001b[0;32m<ipython-input-32-5cf0380f5000>\u001b[0m in \u001b[0;36m<cell line: 10>\u001b[0;34m()\u001b[0m\n\u001b[1;32m      8\u001b[0m \u001b[0mkwargs\u001b[0m \u001b[0;34m=\u001b[0m \u001b[0;34m{\u001b[0m\u001b[0;34m'a'\u001b[0m\u001b[0;34m:\u001b[0m \u001b[0;36m1\u001b[0m\u001b[0;34m,\u001b[0m \u001b[0;34m'b'\u001b[0m\u001b[0;34m:\u001b[0m \u001b[0;36m2\u001b[0m\u001b[0;34m,\u001b[0m \u001b[0;34m'c'\u001b[0m\u001b[0;34m:\u001b[0m \u001b[0;36m3\u001b[0m\u001b[0;34m}\u001b[0m\u001b[0;34m\u001b[0m\u001b[0;34m\u001b[0m\u001b[0m\n\u001b[1;32m      9\u001b[0m \u001b[0mfunc\u001b[0m\u001b[0;34m(\u001b[0m\u001b[0;34m**\u001b[0m\u001b[0mkwargs\u001b[0m\u001b[0;34m)\u001b[0m\u001b[0;34m\u001b[0m\u001b[0;34m\u001b[0m\u001b[0m\n\u001b[0;32m---> 10\u001b[0;31m \u001b[0mprint\u001b[0m\u001b[0;34m(\u001b[0m\u001b[0mkwargs\u001b[0m\u001b[0;34m,\u001b[0m \u001b[0;34m**\u001b[0m\u001b[0mkwargs\u001b[0m\u001b[0;34m)\u001b[0m \u001b[0;31m# error\u001b[0m\u001b[0;34m\u001b[0m\u001b[0;34m\u001b[0m\u001b[0m\n\u001b[0m",
            "\u001b[0;31mTypeError\u001b[0m: 'a' is an invalid keyword argument for print()"
          ]
        }
      ]
    },
    {
      "cell_type": "code",
      "source": [
        "kwargs = {'a': 1, 'b': 2, 'c': 3}\n",
        "print(kwargs, *kwargs)\n",
        "# print(kwargs, **kwargs) # 왜 에스터리스크가 2개일 때 error가 날까요?\n",
        "# print(kwargs, a=1, b=2, c=3) # 이 코드가 바로 위의 코드와 같습니다."
      ],
      "metadata": {
        "colab": {
          "base_uri": "https://localhost:8080/"
        },
        "id": "CsX3lsn_5cvj",
        "outputId": "a0f81dd9-3ecf-45b8-e82c-d3921c5beef3"
      },
      "execution_count": 33,
      "outputs": [
        {
          "output_type": "stream",
          "name": "stdout",
          "text": [
            "{'a': 1, 'b': 2, 'c': 3} a b c\n"
          ]
        }
      ]
    },
    {
      "cell_type": "code",
      "source": [
        "def func(*args):\n",
        "    print(args)\n",
        "\n",
        "func(10, 20, 30)\n",
        "# func(kwargs, a=1, b=2, c=3) 로 입력이 되었다는 것을 확인할 수 있습니다.\n",
        "# 10, 20, 30 => *args => (10, 20, 30)"
      ],
      "metadata": {
        "colab": {
          "base_uri": "https://localhost:8080/"
        },
        "id": "2NL_R2Zh5eB8",
        "outputId": "e00ade7d-990e-4bea-edaf-3dfa01b8876f"
      },
      "execution_count": 34,
      "outputs": [
        {
          "output_type": "stream",
          "name": "stdout",
          "text": [
            "(10, 20, 30)\n"
          ]
        }
      ]
    },
    {
      "cell_type": "code",
      "source": [
        "def func(a, b, c):\n",
        "    print(a, b, c)\n",
        "\n",
        "args = (10, 20, 30)\n",
        "func(*args)\n",
        "# func(kwargs, a=1, b=2, c=3) 로 입력이 되었다는 것을 확인할 수 있습니다.\n",
        "# (10, 20, 30) => *args => 10, 20, 30"
      ],
      "metadata": {
        "id": "ADhpdGoJ5euC"
      },
      "execution_count": null,
      "outputs": []
    },
    {
      "cell_type": "markdown",
      "source": [
        "# 이터레이터와 제너레이터"
      ],
      "metadata": {
        "id": "5Y6DLw6w6RlP"
      }
    },
    {
      "cell_type": "code",
      "source": [
        "class MyIterator:\n",
        "    def __init__(self, stop):\n",
        "        self.current_value = 0  # 현재 값\n",
        "        self.stop = stop  # 순회를 멈출 값\n",
        "\n",
        "    def __iter__(self):\n",
        "        return self\n",
        "\n",
        "    def __next__(self):\n",
        "        if self.current_value >= self.stop:\n",
        "            raise StopIteration\n",
        "        result = self.current_value\n",
        "        self.current_value += 1\n",
        "        return result\n",
        "\n",
        "my_iterator = MyIterator(5)\n",
        "\n",
        "for i in my_iterator:\n",
        "    print(i)\n",
        "\n",
        "'''\n",
        "for 만나면 __iter__가 실행이되고, 반복이 시작되면 __next__를 호출합니다.\n",
        "'''"
      ],
      "metadata": {
        "colab": {
          "base_uri": "https://localhost:8080/",
          "height": 127
        },
        "id": "JqHJYElb6R1j",
        "outputId": "2c7dc526-b58b-4bcc-9a67-19ba4ab44fce"
      },
      "execution_count": 35,
      "outputs": [
        {
          "output_type": "stream",
          "name": "stdout",
          "text": [
            "0\n",
            "1\n",
            "2\n",
            "3\n",
            "4\n"
          ]
        },
        {
          "output_type": "execute_result",
          "data": {
            "text/plain": [
              "'\\nfor 만나면 __iter__가 실행이되고, 반복이 시작되면 __next__를 호출합니다.\\n'"
            ],
            "application/vnd.google.colaboratory.intrinsic+json": {
              "type": "string"
            }
          },
          "metadata": {},
          "execution_count": 35
        }
      ]
    },
    {
      "cell_type": "code",
      "source": [
        "class MyIterator:\n",
        "    def __init__(self, stop):\n",
        "        self.current_value = 0  # 현재 값\n",
        "        self.stop = stop  # 순회를 멈출 값\n",
        "\n",
        "    def __iter__(self):\n",
        "        return self\n",
        "\n",
        "    def __next__(self):\n",
        "        if self.current_value >= self.stop:\n",
        "            raise StopIteration\n",
        "        result = self.current_value\n",
        "        self.current_value += 1\n",
        "        return result\n",
        "\n",
        "my_iterator = MyIterator(5)\n",
        "\n",
        "for i in my_iterator:\n",
        "    print(i)\n",
        "\n",
        "for i in my_iterator:\n",
        "    print(i)"
      ],
      "metadata": {
        "colab": {
          "base_uri": "https://localhost:8080/"
        },
        "id": "YNG9oNyk-uP1",
        "outputId": "c947db61-c3b3-4e72-bffc-ce2b305e561c"
      },
      "execution_count": 36,
      "outputs": [
        {
          "output_type": "stream",
          "name": "stdout",
          "text": [
            "0\n",
            "1\n",
            "2\n",
            "3\n",
            "4\n"
          ]
        }
      ]
    },
    {
      "cell_type": "code",
      "source": [
        "class MyIterator:\n",
        "    def __init__(self, stop):\n",
        "        self.stop = stop  # 순회를 멈출 값\n",
        "\n",
        "    def __iter__(self):\n",
        "        self.current_value = 0  # 현재 값\n",
        "        return self\n",
        "\n",
        "    def __next__(self):\n",
        "        if self.current_value >= self.stop:\n",
        "            raise StopIteration\n",
        "        result = self.current_value\n",
        "        self.current_value += 1\n",
        "        return result\n",
        "\n",
        "my_iterator = MyIterator(5)\n",
        "\n",
        "for i in my_iterator:\n",
        "    print(i)\n",
        "\n",
        "for i in my_iterator:\n",
        "    print(i)"
      ],
      "metadata": {
        "colab": {
          "base_uri": "https://localhost:8080/"
        },
        "id": "Jog_1g5Y-u8R",
        "outputId": "390f840a-5036-4c04-9b9c-bc372d42ea16"
      },
      "execution_count": 38,
      "outputs": [
        {
          "output_type": "stream",
          "name": "stdout",
          "text": [
            "0\n",
            "1\n",
            "2\n",
            "3\n",
            "4\n",
            "0\n",
            "1\n",
            "2\n",
            "3\n",
            "4\n"
          ]
        }
      ]
    },
    {
      "cell_type": "code",
      "source": [
        "def my_generator(data):\n",
        "    for i in data:\n",
        "        yield i\n",
        "\n",
        "my_list = [1, 2, 3, 4, 5]\n",
        "my_iterator = my_generator(my_list)\n",
        "\n",
        "for i in my_iterator:\n",
        "    print(i)"
      ],
      "metadata": {
        "colab": {
          "base_uri": "https://localhost:8080/"
        },
        "id": "E8_VdDElCVMU",
        "outputId": "e4b02a9a-bead-482c-9828-a0c85991f8af"
      },
      "execution_count": 39,
      "outputs": [
        {
          "output_type": "stream",
          "name": "stdout",
          "text": [
            "1\n",
            "2\n",
            "3\n",
            "4\n",
            "5\n"
          ]
        }
      ]
    },
    {
      "cell_type": "code",
      "source": [
        "def my_generator(data):\n",
        "    for i in data:\n",
        "        yield i * 10\n",
        "\n",
        "for i in my_generator([1, 2, 3]):\n",
        "    print(i)"
      ],
      "metadata": {
        "colab": {
          "base_uri": "https://localhost:8080/"
        },
        "id": "UO65T70LCWmZ",
        "outputId": "b7d668ba-2e45-4121-8f25-605bcee10ddf"
      },
      "execution_count": 40,
      "outputs": [
        {
          "output_type": "stream",
          "name": "stdout",
          "text": [
            "10\n",
            "20\n",
            "30\n"
          ]
        }
      ]
    },
    {
      "cell_type": "code",
      "source": [
        "# 이럴때 많이 사용합니다.\n",
        "def my_generator():\n",
        "    l = ['짝', '홀']\n",
        "    t = False\n",
        "    while True:\n",
        "        if t == False:\n",
        "            yield l[0]\n",
        "            t = True\n",
        "        else:\n",
        "            yield l[1]\n",
        "            t = False\n",
        "\n",
        "list(zip([0, 1, 2, 3, 4, 5, 6], my_generator()))"
      ],
      "metadata": {
        "colab": {
          "base_uri": "https://localhost:8080/"
        },
        "id": "2d1syXo2CXU3",
        "outputId": "34d4acd7-a724-410c-8eee-a753c28897a1"
      },
      "execution_count": 41,
      "outputs": [
        {
          "output_type": "execute_result",
          "data": {
            "text/plain": [
              "[(0, '짝'), (1, '홀'), (2, '짝'), (3, '홀'), (4, '짝'), (5, '홀'), (6, '짝')]"
            ]
          },
          "metadata": {},
          "execution_count": 41
        }
      ]
    },
    {
      "cell_type": "code",
      "source": [
        "# 이럴때 많이 사용합니다.\n",
        "def my_generator():\n",
        "    l = ['짝', '홀']\n",
        "    while True:\n",
        "        yield l[t := False]\n",
        "        yield l[t := True]\n",
        "\n",
        "list(zip([0, 1, 2, 3, 4, 5, 6], my_generator()))"
      ],
      "metadata": {
        "colab": {
          "base_uri": "https://localhost:8080/"
        },
        "id": "7N8NcQpwEj_3",
        "outputId": "21e2244b-7f79-4c3c-b114-fd1d9181a03a"
      },
      "execution_count": 42,
      "outputs": [
        {
          "output_type": "execute_result",
          "data": {
            "text/plain": [
              "[(0, '짝'), (1, '홀'), (2, '짝'), (3, '홀'), (4, '짝'), (5, '홀'), (6, '짝')]"
            ]
          },
          "metadata": {},
          "execution_count": 42
        }
      ]
    },
    {
      "cell_type": "code",
      "source": [
        "def my_generator():\n",
        "    count = 0\n",
        "    while True:\n",
        "        yield count\n",
        "        count += 2\n",
        "list(zip([1, 2, 3, 4, 5, 6, 7, 8, 9], 'hello world', my_generator())) # 마치 enumerate처럼"
      ],
      "metadata": {
        "colab": {
          "base_uri": "https://localhost:8080/"
        },
        "id": "SCKNWMjVElmw",
        "outputId": "9b56053e-f1a9-4c43-bc6d-1c7a693b6e18"
      },
      "execution_count": 43,
      "outputs": [
        {
          "output_type": "execute_result",
          "data": {
            "text/plain": [
              "[(1, 'h', 0),\n",
              " (2, 'e', 2),\n",
              " (3, 'l', 4),\n",
              " (4, 'l', 6),\n",
              " (5, 'o', 8),\n",
              " (6, ' ', 10),\n",
              " (7, 'w', 12),\n",
              " (8, 'o', 14),\n",
              " (9, 'r', 16)]"
            ]
          },
          "metadata": {},
          "execution_count": 43
        }
      ]
    },
    {
      "cell_type": "code",
      "source": [
        "gen = (i for i in range(2, 11, 2))\n",
        "for i in gen:\n",
        "    print(i)"
      ],
      "metadata": {
        "id": "oXzo4mdCFcS5"
      },
      "execution_count": null,
      "outputs": []
    }
  ]
}